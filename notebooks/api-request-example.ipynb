{
 "cells": [
  {
   "cell_type": "code",
   "execution_count": 1,
   "id": "dfd52fa6-223c-4342-91aa-e4ab4592797e",
   "metadata": {},
   "outputs": [],
   "source": [
    "from mais_hack import request_generation"
   ]
  },
  {
   "cell_type": "code",
   "execution_count": 2,
   "id": "0aeea164-d9b9-419a-a5f8-8aaebd7ee4f6",
   "metadata": {},
   "outputs": [],
   "source": [
    "# generated = request_generation(\"Mary had a little lamb\")\n",
    "# generated"
   ]
  },
  {
   "cell_type": "code",
   "execution_count": 25,
   "id": "f2a7144f-5653-4fdf-9999-7f2984a247bb",
   "metadata": {},
   "outputs": [
    {
     "name": "stdout",
     "output_type": "stream",
     "text": [
      "This email writing program can generate full email templates from commands. Here are some examples:\n",
      "--\n",
      "Command: A letter to the government asking how long do I have to wait for canadian visitor visa\n",
      "Email:Dear ______,  I am writing to inquire about the waiting period for a Canadian visitor visa. I am interested in applying for a visa to visit Canada, and would like to know how long the process typically takes. I understand that processing times may vary depending on individual circumstances, but would appreciate any general information you can provide about the timeline for this type of visa.  Thank you for your time and consideration.\n",
      "--\n",
      "Command: A letter to the government asking why my disability benefit has been declined.\n",
      "Email:Dear ______,   I am writing to ask why my disability benefit has been declined. I have been receiving this benefit for many years and it has been a great help to me in managing my condition. I was recently told that my benefit would be discontinued, and I would like to know why this decision was made. As you may know, I have a disability that prevents me from working full- time. This benefit has allowed me to maintain my independence and live a reasonably normal life. Without it, I would be forced to rely on others for financial support, which would be very difficult for me. I would appreciate it if you could let me know why my benefit was declined, and if there is any way that I can appeal this decision.  Thank you for your time.  Sincerely,  [Your Name]\n",
      "--\n",
      "Command: A letter to the government asking if my wife eligible for maternity/parental benefits\n",
      "Email:To Whom It May Concern,  I am writing to inquire about my wife's eligibility for maternity/parental benefits. She is currently pregnant and due to deliver our child in [insert month and year]. I would like to know if she is eligible for any benefits that could help us during this time and how we can go about applying for them. Thank you for your time and consideration.  Sincerely,  [Your Name]\n",
      "--\n",
      "Command: A letter to the government asking the status of my PGWP application\n",
      "Email:Dear Sir/Madam,  I would like to inquire about the status of my application for a Post-Graduation Work Permit (PGWP). I submitted my application on ____________ (date) and my student visa expires on ____________ (date). I would appreciate it if you could let me know the status of my application and how long I can expect to wait for a decision. Thank you in advance for your time and assistance.  Sincerely,  ____________ (name) \n",
      "--\n",
      "Command: A letter to the government asking how can get a work permit in canada\n",
      "Email:Hello,  I am writing to inquire about how I can obtain a work permit in Canada. I am a citizen of [COUNTRY NAME] and I am interested in working in Canada in order to gain experience in my field of work. I would appreciate it if you could provide me with information on the steps I need to take in order to apply for a work permit, as well as any other relevant information that I should be aware of. Thank you for your time and assistance. Sincerely,  [YOUR NAME]\n",
      "--\n",
      "Command: A letter to the government asking how to formally dispute your notice of assessment, reassessment or determination?\n",
      "Email:Dear Government, I am writing to dispute my notice of assessment, reassessment or determination. I believe that I have been assessed incorrectly and would like to request a review of my case. I would appreciate if you could provide me with information on how to formally dispute my assessment and what the next steps would be in the process. Thank you for your time and assistance. Sincerely, [Your Name]\n",
      "--\n",
      "Command: A letter to the government asking why I don't have tax refund this year.\n",
      "Email:Dear Government, I'm writing to ask why I haven't received my tax refund this year. I was expecting to receive a refund of $XXX, but so far I haven't seen any money come back to me. I would appreciate if you could look into this and let me know what is happening with my refund. Thank you.\n",
      "--\n",
      "Command: A letter to the government asking for if I still have CEEB eligibility after withdrawing from college\n",
      "Email:Dear Government Official,  I am writing to inquire about my CEEB eligibility after withdrawing from college. I was previously enrolled in college full-time, but I withdrew from all of my classes and am no longer enrolled. I would like to know if I am still eligible to take the CEEB and if so, how I can go about doing so.  Thank you for your time and attention to this matter.  Sincerely,  [Your Name]\n",
      "--\n",
      "Command: A letter to the government asking for if I can apply for EI 8 month later since lost my income.\n",
      "Email:Dear Government,  I am writing to inquire about whether or not I can apply for Employment Insurance (EI) eight months after I lost my income. I understand that the usual time frame for applying for EI is within four weeks of losing one's job or income. However, due to extenuating circumstances, I was not able to apply for EI within that time frame. I would like to know if I am still eligible to apply for EI benefits, and if so, how I can go about doing so.  Thank you for your time and consideration.  Sincerely,  [Your Name]\n",
      "--\n",
      "Command: A letter to the government asking how long would it take for CRA to process my tax documents\n",
      "\n",
      "Email:Dear Government,   I am writing to inquire about how long it would take for the Canada Revenue Agency to process my tax documents. I have submitted all of the necessary paperwork and am just waiting for a response. I would appreciate if you could let me know how long I can expect to wait for a decision.   Thank you for your time.   Sincerely,   [Your Name]\n",
      "--\n",
      "Command: A letter to the government asking when I need to extend my student visa\n",
      "Email:Dear Government,  I am writing to ask when I need to extend my student visa. My current visa is set to expire on XX/XX/XXXX. I am currently enrolled in school and my program is set to end on XX/XX/XXXX. I would like to know if I need to extend my visa in order to continue attending school or if I can remain on my current visa until it expires. Thank you for your time and I look forward to hearing from you soon.\n",
      "--\n",
      "Command: A letter to the government asking how to notify the government of a death\n",
      "Email:Dear Government,  We are writing to ask how we can notify the government of a death. We are unsure what the process is or who to contact. We would appreciate any guidance you can provide.  Thank you,  [Your Name]\n",
      "--\n",
      "Command: A letter to the government what are my benefits payment dates\n",
      "Email:Dear Government,  I am writing to inquire about my benefits payment dates. I am currently receiving benefits from the government and would like to know when my next payment is scheduled to come through. I appreciate any information you can provide on this matter. Thank you for your time and attention.\n",
      "--\n",
      "Command: A letter to the government asking how can I cancel my EI\n",
      "Email:Dear Government,  I would like to cancel my Employment Insurance benefits. How can I do this?  Thank you,  [Your Name]\n",
      "--\n",
      "Command: A letter to the government asking how to change address in my CRA account\n",
      "Email:Dear Sir or Madam,  I would like to know how to change my address in my CRA account. I have recently moved and would like to update my information with the government. Can you please let me know the steps I need to take in order to change my address? Thank you for your time.  Sincerely,  [insert your name here]\n",
      "\n"
     ]
    }
   ],
   "source": [
    "import pandas as pd\n",
    "column_names = ['command','email']\n",
    "df = pd.read_csv('../examples.csv',names=column_names)\n",
    "preset = \"This email writing program can generate full email templates from commands. Here are some examples:\\n\"\n",
    "counter = 0\n",
    "threshold = 15\n",
    "email = ''\n",
    "#seperator = '--SEPARATOR--\\n'\n",
    "seperator = '--\\n'\n",
    "for index, row in df.iterrows():\n",
    "    counter += 1\n",
    "    if counter > threshold:\n",
    "        break\n",
    "    preset +=  seperator\n",
    "    preset += 'Command: '+row['command'] + '\\n'\n",
    "    preset += 'Email:' + row['email'].replace('\\n',' ') + '\\n'\n",
    "    \n",
    "print(preset)"
   ]
  },
  {
   "cell_type": "code",
   "execution_count": 32,
   "id": "abd91aaf-a940-4965-b196-e62d0a9f63a2",
   "metadata": {},
   "outputs": [
    {
     "name": "stdout",
     "output_type": "stream",
     "text": [
      "This email writing program can generate full email templates from commands. Here are some examples:\n",
      "--\n",
      "Command: A letter to the government asking how long do I have to wait for canadian visitor visa\n",
      "Email:Dear ______,  I am writing to inquire about the waiting period for a Canadian visitor visa. I am interested in applying for a visa to visit Canada, and would like to know how long the process typically takes. I understand that processing times may vary depending on individual circumstances, but would appreciate any general information you can provide about the timeline for this type of visa.  Thank you for your time and consideration.\n",
      "--\n",
      "Command: A letter to the government asking why my disability benefit has been declined.\n",
      "Email:Dear ______,   I am writing to ask why my disability benefit has been declined. I have been receiving this benefit for many years and it has been a great help to me in managing my condition. I was recently told that my benefit would be discontinued, and I would like to know why this decision was made. As you may know, I have a disability that prevents me from working full- time. This benefit has allowed me to maintain my independence and live a reasonably normal life. Without it, I would be forced to rely on others for financial support, which would be very difficult for me. I would appreciate it if you could let me know why my benefit was declined, and if there is any way that I can appeal this decision.  Thank you for your time.  Sincerely,  [Your Name]\n",
      "--\n",
      "Command: A letter to the government asking if my wife eligible for maternity/parental benefits\n",
      "Email:To Whom It May Concern,  I am writing to inquire about my wife's eligibility for maternity/parental benefits. She is currently pregnant and due to deliver our child in [insert month and year]. I would like to know if she is eligible for any benefits that could help us during this time and how we can go about applying for them. Thank you for your time and consideration.  Sincerely,  [Your Name]\n",
      "--\n",
      "Command: A letter to the government asking the status of my PGWP application\n",
      "Email:Dear Sir/Madam,  I would like to inquire about the status of my application for a Post-Graduation Work Permit (PGWP). I submitted my application on ____________ (date) and my student visa expires on ____________ (date). I would appreciate it if you could let me know the status of my application and how long I can expect to wait for a decision. Thank you in advance for your time and assistance.  Sincerely,  ____________ (name) \n",
      "--\n",
      "Command: A letter to the government asking how can get a work permit in canada\n",
      "Email:Hello,  I am writing to inquire about how I can obtain a work permit in Canada. I am a citizen of [COUNTRY NAME] and I am interested in working in Canada in order to gain experience in my field of work. I would appreciate it if you could provide me with information on the steps I need to take in order to apply for a work permit, as well as any other relevant information that I should be aware of. Thank you for your time and assistance. Sincerely,  [YOUR NAME]\n",
      "--\n",
      "Command: A letter to the government asking how to formally dispute your notice of assessment, reassessment or determination?\n",
      "Email:Dear Government, I am writing to dispute my notice of assessment, reassessment or determination. I believe that I have been assessed incorrectly and would like to request a review of my case. I would appreciate if you could provide me with information on how to formally dispute my assessment and what the next steps would be in the process. Thank you for your time and assistance. Sincerely, [Your Name]\n",
      "--\n",
      "Command: A letter to the government asking why I don't have tax refund this year.\n",
      "Email:Dear Government, I'm writing to ask why I haven't received my tax refund this year. I was expecting to receive a refund of $XXX, but so far I haven't seen any money come back to me. I would appreciate if you could look into this and let me know what is happening with my refund. Thank you.\n",
      "--\n",
      "Command: A letter to the government asking for if I still have CEEB eligibility after withdrawing from college\n",
      "Email:Dear Government Official,  I am writing to inquire about my CEEB eligibility after withdrawing from college. I was previously enrolled in college full-time, but I withdrew from all of my classes and am no longer enrolled. I would like to know if I am still eligible to take the CEEB and if so, how I can go about doing so.  Thank you for your time and attention to this matter.  Sincerely,  [Your Name]\n",
      "--\n",
      "Command: A letter to the government asking for if I can apply for EI 8 month later since lost my income.\n",
      "Email:Dear Government,  I am writing to inquire about whether or not I can apply for Employment Insurance (EI) eight months after I lost my income. I understand that the usual time frame for applying for EI is within four weeks of losing one's job or income. However, due to extenuating circumstances, I was not able to apply for EI within that time frame. I would like to know if I am still eligible to apply for EI benefits, and if so, how I can go about doing so.  Thank you for your time and consideration.  Sincerely,  [Your Name]\n",
      "--\n",
      "Command: A letter to the government asking how long would it take for CRA to process my tax documents\n",
      "\n",
      "Email:Dear Government,   I am writing to inquire about how long it would take for the Canada Revenue Agency to process my tax documents. I have submitted all of the necessary paperwork and am just waiting for a response. I would appreciate if you could let me know how long I can expect to wait for a decision.   Thank you for your time.   Sincerely,   [Your Name]\n",
      "--\n",
      "Command: A letter to the government asking when I need to extend my student visa\n",
      "Email:Dear Government,  I am writing to ask when I need to extend my student visa. My current visa is set to expire on XX/XX/XXXX. I am currently enrolled in school and my program is set to end on XX/XX/XXXX. I would like to know if I need to extend my visa in order to continue attending school or if I can remain on my current visa until it expires. Thank you for your time and I look forward to hearing from you soon.\n",
      "--\n",
      "Command: A letter to the government asking how to notify the government of a death\n",
      "Email:Dear Government,  We are writing to ask how we can notify the government of a death. We are unsure what the process is or who to contact. We would appreciate any guidance you can provide.  Thank you,  [Your Name]\n",
      "--\n",
      "Command: A letter to the government what are my benefits payment dates\n",
      "Email:Dear Government,  I am writing to inquire about my benefits payment dates. I am currently receiving benefits from the government and would like to know when my next payment is scheduled to come through. I appreciate any information you can provide on this matter. Thank you for your time and attention.\n",
      "--\n",
      "Command: A letter to the government asking how can I cancel my EI\n",
      "Email:Dear Government,  I would like to cancel my Employment Insurance benefits. How can I do this?  Thank you,  [Your Name]\n",
      "--\n",
      "Command: A letter to the government asking how to change address in my CRA account\n",
      "Email:Dear Sir or Madam,  I would like to know how to change my address in my CRA account. I have recently moved and would like to update my information with the government. Can you please let me know the steps I need to take in order to change my address? Thank you for your time.  Sincerely,  [insert your name here]\n",
      "--\n",
      "Command: A letter to the government asking how can I apply for a work permit\n",
      "\n"
     ]
    }
   ],
   "source": [
    "# print('Enter your question to ask:')\n",
    "#q = input()\n",
    "q = 'how can I apply for a work permit'\n",
    "p = \"Command: A letter to the government asking \" + q + '\\n'\n",
    "prompt = preset+'--\\n'+p\n",
    "print(prompt)"
   ]
  },
  {
   "cell_type": "code",
   "execution_count": 36,
   "id": "3d258e02-c614-4e37-959c-e7a0924a7ef8",
   "metadata": {},
   "outputs": [
    {
     "name": "stderr",
     "output_type": "stream",
     "text": [
      "\u001b[93mWarning: Your text contains a trailing whitespace, which has been trimmed to ensure high quality generations.\n",
      "\u001b[0m\n"
     ]
    }
   ],
   "source": [
    "num_generations = 3\n",
    "generated = request_generation( \n",
    "  model='large', \n",
    "  prompt = prompt,\n",
    "  #prompt='This email writing program can generate full email templates from commands. Here are some examples:\\n--\\nCommand: A letter to the government asking how long do I have to wait for canadian visitor visa\\nEmail:Dear ______,  I am writing to inquire about the waiting period for a Canadian visitor visa. I am interested in applying for a visa to visit Canada, and would like to know how long the process typically takes. I understand that processing times may vary depending on individual circumstances, but would appreciate any general information you can provide about the timeline for this type of visa.  Thank you for your time and consideration.\\n--\\nCommand: A letter to the government asking why my disability benefit has been declined.\\nEmail:Dear ______,   I am writing to ask why my disability benefit has been declined. I have been receiving this benefit for many years and it has been a great help to me in managing my condition. I was recently told that my benefit would be discontinued, and I would like to know why this decision was made. As you may know, I have a disability that prevents me from working full- time. This benefit has allowed me to maintain my independence and live a reasonably normal life. Without it, I would be forced to rely on others for financial support, which would be very difficult for me. I would appreciate it if you could let me know why my benefit was declined, and if there is any way that I can appeal this decision.  Thank you for your time.  Sincerely,  [Your Name]\\n--\\nCommand: A letter to the government asking if my wife eligible for maternity/parental benefits\\nEmail:To Whom It May Concern,  I am writing to inquire about my wife\\'s eligibility for maternity/parental benefits. She is currently pregnant and due to deliver our child in [insert month and year]. I would like to know if she is eligible for any benefits that could help us during this time and how we can go about applying for them. Thank you for your time and consideration.  Sincerely,  [Your Name]\\n--\\nCommand: A letter to the government asking the status of my PGWP application\\nEmail:Dear Sir/Madam,  I would like to inquire about the status of my application for a Post-Graduation Work Permit (PGWP). I submitted my application on ____________ (date) and my student visa expires on ____________ (date). I would appreciate it if you could let me know the status of my application and how long I can expect to wait for a decision. Thank you in advance for your time and assistance.  Sincerely,  ____________ (name) \\n--\\nCommand: A letter to the government asking how can get a work permit in canada\\nEmail:Hello,  I am writing to inquire about how I can obtain a work permit in Canada. I am a citizen of [COUNTRY NAME] and I am interested in working in Canada in order to gain experience in my field of work. I would appreciate it if you could provide me with information on the steps I need to take in order to apply for a work permit, as well as any other relevant information that I should be aware of. Thank you for your time and assistance. Sincerely,  [YOUR NAME]\\n--\\nCommand: A letter to the government asking how to formally dispute your notice of assessment, reassessment or determination?\\nEmail:Dear Government, I am writing to dispute my notice of assessment, reassessment or determination. I believe that I have been assessed incorrectly and would like to request a review of my case. I would appreciate if you could provide me with information on how to formally dispute my assessment and what the next steps would be in the process. Thank you for your time and assistance. Sincerely, [Your Name]\\n--\\nCommand: A letter to the government asking why I don\\'t have tax refund this year.\\nEmail:Dear Government, I\\'m writing to ask why I haven\\'t received my tax refund this year. I was expecting to receive a refund of $XXX, but so far I haven\\'t seen any money come back to me. I would appreciate if you could look into this and let me know what is happening with my refund. Thank you.\\n--\\nCommand: A letter to the government asking for if I still have CEEB eligibility after withdrawing from college\\nEmail:Dear Government Official,  I am writing to inquire about my CEEB eligibility after withdrawing from college. I was previously enrolled in college full-time, but I withdrew from all of my classes and am no longer enrolled. I would like to know if I am still eligible to take the CEEB and if so, how I can go about doing so.  Thank you for your time and attention to this matter.  Sincerely,  [Your Name]\\n--\\nCommand: A letter to the government asking for if I can apply for EI 8 month later since lost my income.\\nEmail:Dear Government,  I am writing to inquire about whether or not I can apply for Employment Insurance (EI) eight months after I lost my income. I understand that the usual time frame for applying for EI is within four weeks of losing one\\'s job or income. However, due to extenuating circumstances, I was not able to apply for EI within that time frame. I would like to know if I am still eligible to apply for EI benefits, and if so, how I can go about doing so.  Thank you for your time and consideration.  Sincerely,  [Your Name]\\n--\\nCommand: A letter to the government asking how long would it take for CRA to process my tax documents\\n\\nEmail:Dear Government,   I am writing to inquire about how long it would take for the Canada Revenue Agency to process my tax documents. I have submitted all of the necessary paperwork and am just waiting for a response. I would appreciate if you could let me know how long I can expect to wait for a decision.   Thank you for your time.   Sincerely,   [Your Name]\\n--\\nCommand: A letter to the government asking when I need to extend my student visa\\nEmail:Dear Government,  I am writing to ask when I need to extend my student visa. My current visa is set to expire on XX/XX/XXXX. I am currently enrolled in school and my program is set to end on XX/XX/XXXX. I would like to know if I need to extend my visa in order to continue attending school or if I can remain on my current visa until it expires. Thank you for your time and I look forward to hearing from you soon.\\n--\\nCommand: A letter to the government asking how to notify the government of a death\\nEmail:Dear Government,  We are writing to ask how we can notify the government of a death. We are unsure what the process is or who to contact. We would appreciate any guidance you can provide.  Thank you,  [Your Name]\\n--\\nCommand: A letter to the government what are my benefits payment dates\\nEmail:Dear Government,  I am writing to inquire about my benefits payment dates. I am currently receiving benefits from the government and would like to know when my next payment is scheduled to come through. I appreciate any information you can provide on this matter. Thank you for your time and attention.\\n--\\nCommand: A letter to the government asking how can I cancel my EI\\nEmail:Dear Government,  I would like to cancel my Employment Insurance benefits. How can I do this?  Thank you,  [Your Name]\\n--\\nCommand: A letter to the government asking how to change address in my CRA account\\nEmail:Dear Sir or Madam,  I would like to know how to change my address in my CRA account. I have recently moved and would like to update my information with the government. Can you please let me know the steps I need to take in order to change my address? Thank you for your time.  Sincerely,  [insert your name here]\\n--\\nCommand:  A letter to the government asking how can I apply for student visa\\n', \n",
    "  max_tokens=256, \n",
    "  temperature=0.8, \n",
    "  k=0, \n",
    "  p=0.75, \n",
    "  frequency_penalty=0, \n",
    "  presence_penalty=0, \n",
    "  stop_sequences=[\"--\"], \n",
    "  return_likelihoods='NONE',\n",
    "  num_generations=num_generations)"
   ]
  },
  {
   "cell_type": "code",
   "execution_count": 37,
   "id": "9fefaf20-66a0-456f-97d8-344dc107ee9d",
   "metadata": {},
   "outputs": [
    {
     "name": "stdout",
     "output_type": "stream",
     "text": [
      "[cohere.Generation {\n",
      "\ttext: ?\n",
      "Email:Dear Government, I am writing to inquire about how I can apply for a work permit. I would like to know if I am eligible for a work permit and how I can go about applying for one.  Thank you for your time.  Sincerely,  [Your Name]\n",
      "--\n",
      "\tlikelihood: None\n",
      "\ttoken_likelihoods: None\n",
      "}, cohere.Generation {\n",
      "\ttext: \n",
      "Email:Dear Government,  I would like to inquire about how to apply for a work permit. I am currently a permanent resident in Canada and am interested in applying for a work permit in order to find employment in Canada. I would appreciate any information you can provide on this topic. Thank you for your time.  Sincerely,  [insert your name here]\n",
      "--\n",
      "\tlikelihood: None\n",
      "\ttoken_likelihoods: None\n",
      "}, cohere.Generation {\n",
      "\ttext: \n",
      "Email:Dear Government,  I am writing to ask how I can apply for a work permit in Canada. I would like to know what documents I need to submit with my application and if there is any fee that I will need to pay. I would appreciate it if you could let me know how I can go about applying for a work permit.  Thank you for your time and assistance. Sincerely,  [Your Name]\n",
      "--\n",
      "\tlikelihood: None\n",
      "\ttoken_likelihoods: None\n",
      "}]\n"
     ]
    }
   ],
   "source": [
    "print(generated)"
   ]
  },
  {
   "cell_type": "code",
   "execution_count": 39,
   "id": "bc4184dc-5c41-40fc-8e92-da2cee9610db",
   "metadata": {},
   "outputs": [
    {
     "name": "stdout",
     "output_type": "stream",
     "text": [
      "Dear Government, I am writing to inquire about how I can apply for a work permit. I would like to know if I am eligible for a work permit and how I can go about applying for one.  Thank you for your time.  Sincerely,  [Your Name]\n",
      "\n",
      "Dear Government,  I would like to inquire about how to apply for a work permit. I am currently a permanent resident in Canada and am interested in applying for a work permit in order to find employment in Canada. I would appreciate any information you can provide on this topic. Thank you for your time.  Sincerely,  [insert your name here]\n",
      "\n",
      "Dear Government,  I am writing to ask how I can apply for a work permit in Canada. I would like to know what documents I need to submit with my application and if there is any fee that I will need to pay. I would appreciate it if you could let me know how I can go about applying for a work permit.  Thank you for your time and assistance. Sincerely,  [Your Name]\n",
      "\n"
     ]
    }
   ],
   "source": [
    "for item in generated:\n",
    "    final_email = item.text.replace('--','').split('Email:',1)[1]\n",
    "    print(final_email)"
   ]
  },
  {
   "cell_type": "code",
   "execution_count": null,
   "id": "95e39c60-acb8-4ac7-9b18-366a5786812e",
   "metadata": {},
   "outputs": [],
   "source": []
  }
 ],
 "metadata": {
  "kernelspec": {
   "display_name": "Python 3 (ipykernel)",
   "language": "python",
   "name": "python3"
  },
  "language_info": {
   "codemirror_mode": {
    "name": "ipython",
    "version": 3
   },
   "file_extension": ".py",
   "mimetype": "text/x-python",
   "name": "python",
   "nbconvert_exporter": "python",
   "pygments_lexer": "ipython3",
   "version": "3.9.14"
  }
 },
 "nbformat": 4,
 "nbformat_minor": 5
}
