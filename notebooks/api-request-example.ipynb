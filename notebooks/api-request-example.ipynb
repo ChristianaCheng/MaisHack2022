{
 "cells": [
  {
   "cell_type": "code",
   "execution_count": 1,
   "id": "dfd52fa6-223c-4342-91aa-e4ab4592797e",
   "metadata": {},
   "outputs": [],
   "source": [
    "from mais_hack import request_generation"
   ]
  },
  {
   "cell_type": "code",
   "execution_count": 5,
   "id": "0aeea164-d9b9-419a-a5f8-8aaebd7ee4f6",
   "metadata": {},
   "outputs": [
    {
     "data": {
      "text/plain": [
       "'.” I read it aloud to my mom.\\n“Yeah,” my mom said. She continued'"
      ]
     },
     "execution_count": 5,
     "metadata": {},
     "output_type": "execute_result"
    }
   ],
   "source": [
    "generated = request_generation(\"Mary had a little lamb\")\n",
    "generated"
   ]
  },
  {
   "cell_type": "code",
   "execution_count": null,
   "id": "f2a7144f-5653-4fdf-9999-7f2984a247bb",
   "metadata": {},
   "outputs": [],
   "source": []
  }
 ],
 "metadata": {
  "kernelspec": {
   "display_name": "Python 3 (ipykernel)",
   "language": "python",
   "name": "python3"
  },
  "language_info": {
   "codemirror_mode": {
    "name": "ipython",
    "version": 3
   },
   "file_extension": ".py",
   "mimetype": "text/x-python",
   "name": "python",
   "nbconvert_exporter": "python",
   "pygments_lexer": "ipython3",
   "version": "3.9.14"
  }
 },
 "nbformat": 4,
 "nbformat_minor": 5
}
